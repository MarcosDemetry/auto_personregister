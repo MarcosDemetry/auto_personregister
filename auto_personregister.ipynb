{
 "cells": [
  {
   "cell_type": "markdown",
   "metadata": {},
   "source": [
    "# Creating Name-Index based on Search Words"
   ]
  },
  {
   "cell_type": "markdown",
   "metadata": {},
   "source": [
    "Search for specific names in a PDF, retreive page numbers, create dataframe with names and page numbers on which they appear. Great for first drafts!"
   ]
  },
  {
   "cell_type": "code",
   "execution_count": 2,
   "metadata": {},
   "outputs": [],
   "source": [
    "import pandas as pd\n",
    "import more_itertools as mit\n",
    "import PyPDF2, os\n",
    "import re"
   ]
  },
  {
   "cell_type": "code",
   "execution_count": 7,
   "metadata": {},
   "outputs": [
    {
     "name": "stdout",
     "output_type": "stream",
     "text": [
      "Total number of pages in 2019 Carlson Lundahl - Ett forskningsinstitut expanderar.pdf: 824.\n"
     ]
    }
   ],
   "source": [
    "# Testing on a PDF book\n",
    "file = \"2019 Carlson Lundahl - Ett forskningsinstitut expanderar.pdf\"\n",
    "pdfFileObj = open(file, \"rb\", newline=None, errors=None, closefd=True, opener=None)\n",
    "pdfReader = PyPDF2.PdfFileReader(pdfFileObj, strict=False)\n",
    "\n",
    "print(\"Total number of pages in {}: {}.\".format(file, pdfReader.numPages))"
   ]
  },
  {
   "cell_type": "markdown",
   "metadata": {},
   "source": [
    "pageObj = pdfReader.getPage(8)\n",
    "text = pageObj.extractText()\n",
    "text_latin = text.encode('latin-1', 'replace').decode('latin-1')\n",
    "text_latin\n",
    "\n",
    "text_utf8 = pageObj.extractText().encode('UTF-8')\n",
    "text_utf8\n",
    "\n",
    "text_utf8 = pageObj.extractText().encode('ASCII', 'ignore')\n",
    "text_utf8\n",
    "\n",
    "pageObj = pdfReader.getPage(8)\n",
    "text = pageObj.extractText().encode('utf-8')"
   ]
  },
  {
   "cell_type": "markdown",
   "metadata": {},
   "source": [
    "## Searching for specific search words"
   ]
  },
  {
   "cell_type": "code",
   "execution_count": 5,
   "metadata": {},
   "outputs": [],
   "source": [
    "search_words = [\"naja\", \"wallander\", \"wallenberg\", \"dahmén\", \"bentzel\"]"
   ]
  },
  {
   "cell_type": "code",
   "execution_count": 6,
   "metadata": {},
   "outputs": [
    {
     "name": "stdout",
     "output_type": "stream",
     "text": [
      "The word naja was found 67 times\n",
      "The word wallander was found 584 times\n",
      "The word wallenberg was found 83 times\n",
      "The word dahmén was found 297 times\n",
      "The word bentzel was found 468 times\n"
     ]
    }
   ],
   "source": [
    "names = []\n",
    "pagenumbers = []\n",
    "\n",
    "for search_word in search_words:\n",
    "    search_word_count = 0\n",
    "    for pageNum in range(1, pdfReader.numPages):\n",
    "        pageObj = pdfReader.getPage(pageNum)\n",
    "        text = pageObj.extractText().encode('utf-8')\n",
    "        search_text = text.lower().split()\n",
    "        for word in search_text:\n",
    "            if search_word in word.decode(\"utf-8\"):\n",
    "                search_word_count += 1\n",
    "                names.append(search_word)\n",
    "                pagenumbers.append(pageNum)\n",
    "\n",
    "    print(\"The word {} was found {} times\".format(search_word, search_word_count))"
   ]
  },
  {
   "cell_type": "markdown",
   "metadata": {},
   "source": [
    "## Creating DataFrame"
   ]
  },
  {
   "cell_type": "code",
   "execution_count": 8,
   "metadata": {},
   "outputs": [
    {
     "name": "stdout",
     "output_type": "stream",
     "text": [
      "<class 'pandas.core.frame.DataFrame'>\n",
      "Int64Index: 523 entries, 0 to 1498\n",
      "Data columns (total 2 columns):\n",
      " #   Column  Non-Null Count  Dtype \n",
      "---  ------  --------------  ----- \n",
      " 0   Name    523 non-null    object\n",
      " 1   Page    523 non-null    int64 \n",
      "dtypes: int64(1), object(1)\n",
      "memory usage: 12.3+ KB\n"
     ]
    }
   ],
   "source": [
    "df = pd.DataFrame({'Name': names,\n",
    "     'Page': pagenumbers})\n",
    "\n",
    "df = df.drop_duplicates()\n",
    "df.info()"
   ]
  },
  {
   "cell_type": "markdown",
   "metadata": {},
   "source": [
    "### Creating index-like structure"
   ]
  },
  {
   "cell_type": "code",
   "execution_count": 9,
   "metadata": {},
   "outputs": [
    {
     "name": "stdout",
     "output_type": "stream",
     "text": [
      "Appearances per person\n",
      "                                                         Page\n",
      "Name                                                         \n",
      "bentzel     [10, 13, 19, 37, 60, 86, 88, 143, 150, 160, 21...\n",
      "dahmén      [9, 13, 19, 24, 26, 33, 34, 35, 36, 37, 48, 60...\n",
      "naja        [7, 13, 100, 212, 220, 221, 222, 223, 225, 227...\n",
      "wallander   [7, 13, 14, 19, 23, 24, 34, 49, 51, 53, 61, 65...\n",
      "wallenberg  [9, 15, 30, 33, 34, 88, 194, 197, 198, 199, 20...\n",
      "\n",
      "\n"
     ]
    }
   ],
   "source": [
    "df_gr = df.groupby('Name').agg(lambda x: list(x))\n",
    "print('Appearances per person', df_gr, sep='\\n', end='\\n\\n\\n')"
   ]
  },
  {
   "cell_type": "markdown",
   "metadata": {},
   "source": [
    "### Creating range for consecutive page numbers"
   ]
  },
  {
   "cell_type": "code",
   "execution_count": 10,
   "metadata": {},
   "outputs": [],
   "source": [
    "## From Stackoverflow with modifications:\n",
    "## https://stackoverflow.com/questions/2154249/identify-groups-of-continuous-numbers-in-a-list\n",
    "\n",
    "def find_ranges(iterable):\n",
    "    \"\"\"Yield range of consecutive numbers.\"\"\"\n",
    "    for group in mit.consecutive_groups(iterable):\n",
    "        group = list(group)\n",
    "        if len(group) == 1:\n",
    "            yield group[0]\n",
    "        else:\n",
    "            yield str(group[0]) + \"-\" + str(group[-1])\n",
    "\n",
    "df_gr['Page'] = [list(find_ranges(x)) for x in df_gr['Page']]"
   ]
  },
  {
   "cell_type": "code",
   "execution_count": 11,
   "metadata": {},
   "outputs": [
    {
     "data": {
      "text/html": [
       "<div>\n",
       "<style scoped>\n",
       "    .dataframe tbody tr th:only-of-type {\n",
       "        vertical-align: middle;\n",
       "    }\n",
       "\n",
       "    .dataframe tbody tr th {\n",
       "        vertical-align: top;\n",
       "    }\n",
       "\n",
       "    .dataframe thead th {\n",
       "        text-align: right;\n",
       "    }\n",
       "</style>\n",
       "<table border=\"1\" class=\"dataframe\">\n",
       "  <thead>\n",
       "    <tr style=\"text-align: right;\">\n",
       "      <th></th>\n",
       "      <th>Page</th>\n",
       "    </tr>\n",
       "    <tr>\n",
       "      <th>Name</th>\n",
       "      <th></th>\n",
       "    </tr>\n",
       "  </thead>\n",
       "  <tbody>\n",
       "    <tr>\n",
       "      <th>bentzel</th>\n",
       "      <td>[10, 13, 19, 37, 60, 86, 88, 143, 150, 160, 21...</td>\n",
       "    </tr>\n",
       "    <tr>\n",
       "      <th>dahmén</th>\n",
       "      <td>[9, 13, 19, 24, 26, 33-37, 48, 60, 65-95, 138-...</td>\n",
       "    </tr>\n",
       "    <tr>\n",
       "      <th>naja</th>\n",
       "      <td>[7, 13, 100, 212, 220-223, 225, 227, 279, 315,...</td>\n",
       "    </tr>\n",
       "    <tr>\n",
       "      <th>wallander</th>\n",
       "      <td>[7, 13-14, 19, 23-24, 34, 49, 51, 53, 61, 65, ...</td>\n",
       "    </tr>\n",
       "    <tr>\n",
       "      <th>wallenberg</th>\n",
       "      <td>[9, 15, 30, 33-34, 88, 194, 197-202, 204-206, ...</td>\n",
       "    </tr>\n",
       "  </tbody>\n",
       "</table>\n",
       "</div>"
      ],
      "text/plain": [
       "                                                         Page\n",
       "Name                                                         \n",
       "bentzel     [10, 13, 19, 37, 60, 86, 88, 143, 150, 160, 21...\n",
       "dahmén      [9, 13, 19, 24, 26, 33-37, 48, 60, 65-95, 138-...\n",
       "naja        [7, 13, 100, 212, 220-223, 225, 227, 279, 315,...\n",
       "wallander   [7, 13-14, 19, 23-24, 34, 49, 51, 53, 61, 65, ...\n",
       "wallenberg  [9, 15, 30, 33-34, 88, 194, 197-202, 204-206, ..."
      ]
     },
     "execution_count": 11,
     "metadata": {},
     "output_type": "execute_result"
    }
   ],
   "source": [
    "df_gr.head()"
   ]
  },
  {
   "cell_type": "markdown",
   "metadata": {},
   "source": [
    "## Saving"
   ]
  },
  {
   "cell_type": "code",
   "execution_count": 12,
   "metadata": {},
   "outputs": [],
   "source": [
    "df_gr.to_excel('auto_personregister.xlsx')"
   ]
  }
 ],
 "metadata": {
  "kernelspec": {
   "display_name": "Python 3",
   "language": "python",
   "name": "python3"
  },
  "language_info": {
   "codemirror_mode": {
    "name": "ipython",
    "version": 3
   },
   "file_extension": ".py",
   "mimetype": "text/x-python",
   "name": "python",
   "nbconvert_exporter": "python",
   "pygments_lexer": "ipython3",
   "version": "3.7.6"
  }
 },
 "nbformat": 4,
 "nbformat_minor": 4
}
